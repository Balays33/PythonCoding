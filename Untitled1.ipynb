{
 "cells": [
  {
   "cell_type": "code",
   "execution_count": 20,
   "id": "d42e2ef7",
   "metadata": {},
   "outputs": [
    {
     "name": "stdout",
     "output_type": "stream",
     "text": [
      "0.10224215246636771\n"
     ]
    }
   ],
   "source": [
    "import numpy as np\n",
    "import time\n",
    "startPython = int(round(time.time() * 1000))\n",
    "# Creates a list c by adding the elements of a and b\n",
    "a = list(range(10000000))\n",
    "b = list(range(10000000))\n",
    "c = []\n",
    "#This code can take up to 5 seconds to run depending on the type of machine␣you're using\n",
    "for i in range(len(a)):\n",
    "    c.append(a[i] + b[i])\n",
    "stopPython = int(round(time.time() * 1000))\n",
    "# Below code does exactly the same thing but with Numpy Arrays\n",
    "\n",
    "a = np.arange(10000000, dtype=int)\n",
    "b = np.arange(10000000, dtype=int) # The Numpy code by comparison is shorter,␣doesn’t need a loop and it is almost instantaneous by comparison\n",
    "c = a + b\n",
    "stopNumPy = int(round(time.time() * 1000))\n",
    "# Here we express the time take by NumPy as a frac tion of the time taken by␣Python to perform the same operation\n",
    "print ((stopNumPy- stopPython)/(stopPython-startPython))\n"
   ]
  },
  {
   "cell_type": "code",
   "execution_count": 37,
   "id": "559659ed",
   "metadata": {},
   "outputs": [
    {
     "name": "stdout",
     "output_type": "stream",
     "text": [
      "[0, 1, 2, 3, 4, 5, 6, 7, 8, 9]\n",
      "[ 0  2  4  6  8 10 12 14 16 18]\n"
     ]
    }
   ],
   "source": [
    "import numpy as np\n",
    "\n",
    "a = list(range(10))\n",
    "\n",
    "print(a)\n",
    "\n",
    "\n",
    "\n",
    "\n",
    "c=a+b\n",
    "print(c)"
   ]
  },
  {
   "cell_type": "code",
   "execution_count": 43,
   "id": "67861f8e",
   "metadata": {},
   "outputs": [
    {
     "name": "stdout",
     "output_type": "stream",
     "text": [
      "5.5\n",
      "[ 5.  45.6  3.2]\n"
     ]
    }
   ],
   "source": [
    "import numpy as np\n",
    "arr = np.array([5.5, 45.6, 3.2])\n",
    "\n",
    "print (arr[0])\n",
    "arr[0] = 5\n",
    "print (arr)"
   ]
  },
  {
   "cell_type": "code",
   "execution_count": 49,
   "id": "6459aa8f",
   "metadata": {},
   "outputs": [
    {
     "name": "stdout",
     "output_type": "stream",
     "text": [
      "[[ 1.  12.2  3. ]\n",
      " [ 4.   5.   6. ]]\n",
      "[ 1.  12.2  3. ]\n",
      "[[12.2 12.2 12.2]\n",
      " [ 4.   5.   6. ]]\n"
     ]
    }
   ],
   "source": [
    "import numpy as np\n",
    "arr = np.array([[1, 2, 3], [4, 5, 6]], float)\n",
    "arr[0, 1] = 12.2\n",
    "print (arr)\n",
    "\n",
    "print (arr[0])\n",
    "\n",
    "arr[0] = 12.2\n",
    "print (arr)"
   ]
  },
  {
   "cell_type": "code",
   "execution_count": 54,
   "id": "bd3cd4f6",
   "metadata": {},
   "outputs": [
    {
     "name": "stdout",
     "output_type": "stream",
     "text": [
      "[ 2.  4.  6.  8. 10.]\n",
      "[2. 4. 6.]\n"
     ]
    }
   ],
   "source": [
    "import numpy as np\n",
    "arr = np.array([2, 4, 6, 8, 10], float)\n",
    "print(arr)\n",
    "print(arr[0:3])"
   ]
  },
  {
   "cell_type": "code",
   "execution_count": 61,
   "id": "656019e0",
   "metadata": {},
   "outputs": [
    {
     "name": "stdout",
     "output_type": "stream",
     "text": [
      "fourth [[ 1.  4.]\n",
      " [ 5.  8.]\n",
      " [ 9. 12.]]\n"
     ]
    }
   ],
   "source": [
    "import numpy as np\n",
    "arr = np.array([[1, 2, 3, 4], [5, 6, 7, 8],[9, 10, 11, 12]], float)\n",
    "#print (\"first\", arr[0:1, 0:4] )\n",
    "#print (\"second\", arr[0:2, 0:4:2])\n",
    "#print (\"third\", arr[:, 0:2])\n",
    "print (\"fourth\", arr[:, [0,3]])"
   ]
  },
  {
   "cell_type": "code",
   "execution_count": 68,
   "id": "176cdd16",
   "metadata": {},
   "outputs": [
    {
     "name": "stdout",
     "output_type": "stream",
     "text": [
      "[0, 1, 2, 3, 4, 5, 6, 7, 8, 9]\n",
      "[0, 2, 4, 6, 8, 12]\n",
      "[0, 1, 2, 3, 4, 5, 6, 7, 8, 9]\n"
     ]
    }
   ],
   "source": [
    "import numpy as np\n",
    "\n",
    "a= list(range(10))\n",
    "print(a)\n",
    "b = a[::2]\n",
    "b.append(12)\n",
    "print(b)\n",
    "print(a)"
   ]
  },
  {
   "cell_type": "code",
   "execution_count": 74,
   "id": "7ef9df63",
   "metadata": {
    "scrolled": true
   },
   "outputs": [
    {
     "name": "stdout",
     "output_type": "stream",
     "text": [
      "[[1. 2. 3.]\n",
      " [2. 4. 5.]\n",
      " [4. 5. 7.]\n",
      " [6. 2. 3.]]\n",
      "[[1. 2. 3.]\n",
      " [2. 4. 5.]\n",
      " [4. 5. 7.]\n",
      " [6. 2. 3.]]\n",
      "[[200. 200. 200.]\n",
      " [  2.   4.   5.]\n",
      " [  4.   5.   7.]\n",
      " [  6.   2.   3.]]\n",
      "[[200. 200. 200.]\n",
      " [  2.   4.   5.]\n",
      " [  4.   5.   7.]\n",
      " [  6.   2.   3.]]\n",
      "[[200. 200. 200.]\n",
      " [  2.   4.   5.]\n",
      " [  4.   5.   7.]\n",
      " [  6.   2.   3.]]\n"
     ]
    }
   ],
   "source": [
    "import numpy as np\n",
    "data = np.array([[1, 2, 3], [2, 4, 5], [4, 5, 7],[6, 2, 3]], float)\n",
    "print(data)\n",
    "resultA = data[:, 0:3]\n",
    "print(data)\n",
    "resultA[0] = 200\n",
    "print(data)\n",
    "print (resultA)\n",
    "print (data)"
   ]
  },
  {
   "cell_type": "code",
   "execution_count": 71,
   "id": "2504ff42",
   "metadata": {},
   "outputs": [
    {
     "name": "stdout",
     "output_type": "stream",
     "text": [
      "[1 2 3]\n",
      "[1 3]\n",
      "[1 2 3]\n"
     ]
    }
   ],
   "source": [
    "import numpy as np\n",
    "\n",
    "a= np.array([1,2,3], int)\n",
    "print(a)\n",
    "b = a[::2]\n",
    "print(b)\n",
    "print(a)"
   ]
  },
  {
   "cell_type": "code",
   "execution_count": 75,
   "id": "e302c446",
   "metadata": {},
   "outputs": [
    {
     "name": "stdout",
     "output_type": "stream",
     "text": [
      "2\n",
      "3\n"
     ]
    }
   ],
   "source": [
    "import numpy as np\n",
    "arr = np.array([[14.4, 2.4, 56.4], [54.3, 34.4,98.22]], float)\n",
    "print (len(arr))\n",
    "print (len(arr[0]))"
   ]
  },
  {
   "cell_type": "code",
   "execution_count": 87,
   "id": "d30c1a72",
   "metadata": {},
   "outputs": [
    {
     "name": "stdout",
     "output_type": "stream",
     "text": [
      "[ 0  1  2  3  4  5  6  7  8  9 10 11 12 13 14 15 16 17 18 19 20 21 22 23\n",
      " 24 25 26 27 28 29 30 31 32 33 34 35 36 37 38 39 40 41 42 43 44 45 46 47\n",
      " 48 49]\n",
      "[[ 0  1  2]\n",
      " [ 3  4  5]\n",
      " [ 6  7  8]\n",
      " [ 9 10 11]\n",
      " [12 13 14]\n",
      " [15 16 17]\n",
      " [18 19 20]\n",
      " [21 22 23]\n",
      " [24 25 26]\n",
      " [27 28 29]]\n",
      "[[ 0.  1.  2.]\n",
      " [ 3.  4.  5.]\n",
      " [ 6.  7.  8.]\n",
      " [ 9. 10. 11.]\n",
      " [12. 13. 14.]\n",
      " [15. 16. 17.]\n",
      " [18. 19. 20.]\n",
      " [21. 22. 23.]\n",
      " [24. 25. 26.]\n",
      " [27. 28. 29.]]\n"
     ]
    }
   ],
   "source": [
    "import numpy as np\n",
    "\n",
    "arr = np.arange(50)\n",
    "\n",
    "print(arr)\n",
    "\n",
    "arr2 = np.resize(arr, (10,3))\n",
    "\n",
    "print(arr2)\n",
    "\n",
    "np.savetxt(\"numbers.txt\", arr2, fmt=\"%d\", delimiter=\",\")\n",
    "data = np.genfromtxt(\"numbers.txt\", delimiter=\",\")\n",
    "print (data)"
   ]
  },
  {
   "cell_type": "code",
   "execution_count": 99,
   "id": "8024333f",
   "metadata": {},
   "outputs": [
    {
     "name": "stdout",
     "output_type": "stream",
     "text": [
      "[[1. 2. 3.]\n",
      " [4. 5. 6.]]\n",
      "[1. 2. 3. 4. 5. 6. 7. 8. 9.]\n",
      "After specifying axis\n"
     ]
    },
    {
     "ename": "ValueError",
     "evalue": "all the input array dimensions for the concatenation axis must match exactly, but along dimension 1, the array at index 0 has size 3 and the array at index 1 has size 1",
     "output_type": "error",
     "traceback": [
      "\u001b[1;31m---------------------------------------------------------------------------\u001b[0m",
      "\u001b[1;31mValueError\u001b[0m                                Traceback (most recent call last)",
      "Input \u001b[1;32mIn [99]\u001b[0m, in \u001b[0;36m<cell line: 7>\u001b[1;34m()\u001b[0m\n\u001b[0;32m      5\u001b[0m \u001b[38;5;28mprint\u001b[39m (arr1)\n\u001b[0;32m      6\u001b[0m \u001b[38;5;28mprint\u001b[39m (\u001b[38;5;124m\"\u001b[39m\u001b[38;5;124mAfter specifying axis\u001b[39m\u001b[38;5;124m\"\u001b[39m)\n\u001b[1;32m----> 7\u001b[0m arr1 \u001b[38;5;241m=\u001b[39m \u001b[43mnp\u001b[49m\u001b[38;5;241;43m.\u001b[39;49m\u001b[43mappend\u001b[49m\u001b[43m(\u001b[49m\u001b[43marr\u001b[49m\u001b[43m,\u001b[49m\u001b[43m \u001b[49m\u001b[43m[\u001b[49m\u001b[43m[\u001b[49m\u001b[38;5;241;43m7\u001b[39;49m\u001b[43m]\u001b[49m\u001b[43m,\u001b[49m\u001b[43m \u001b[49m\u001b[43m[\u001b[49m\u001b[38;5;241;43m8\u001b[39;49m\u001b[43m]\u001b[49m\u001b[43m]\u001b[49m\u001b[43m,\u001b[49m\u001b[43m \u001b[49m\u001b[43maxis\u001b[49m\u001b[43m \u001b[49m\u001b[38;5;241;43m=\u001b[39;49m\u001b[43m \u001b[49m\u001b[38;5;241;43m0\u001b[39;49m\u001b[43m)\u001b[49m\n\u001b[0;32m      8\u001b[0m \u001b[38;5;28mprint\u001b[39m (arr1)\n",
      "File \u001b[1;32m<__array_function__ internals>:5\u001b[0m, in \u001b[0;36mappend\u001b[1;34m(*args, **kwargs)\u001b[0m\n",
      "File \u001b[1;32mC:\\Utility\\Anaconda3-NEW\\lib\\site-packages\\numpy\\lib\\function_base.py:4817\u001b[0m, in \u001b[0;36mappend\u001b[1;34m(arr, values, axis)\u001b[0m\n\u001b[0;32m   4815\u001b[0m     values \u001b[38;5;241m=\u001b[39m ravel(values)\n\u001b[0;32m   4816\u001b[0m     axis \u001b[38;5;241m=\u001b[39m arr\u001b[38;5;241m.\u001b[39mndim\u001b[38;5;241m-\u001b[39m\u001b[38;5;241m1\u001b[39m\n\u001b[1;32m-> 4817\u001b[0m \u001b[38;5;28;01mreturn\u001b[39;00m \u001b[43mconcatenate\u001b[49m\u001b[43m(\u001b[49m\u001b[43m(\u001b[49m\u001b[43marr\u001b[49m\u001b[43m,\u001b[49m\u001b[43m \u001b[49m\u001b[43mvalues\u001b[49m\u001b[43m)\u001b[49m\u001b[43m,\u001b[49m\u001b[43m \u001b[49m\u001b[43maxis\u001b[49m\u001b[38;5;241;43m=\u001b[39;49m\u001b[43maxis\u001b[49m\u001b[43m)\u001b[49m\n",
      "File \u001b[1;32m<__array_function__ internals>:5\u001b[0m, in \u001b[0;36mconcatenate\u001b[1;34m(*args, **kwargs)\u001b[0m\n",
      "\u001b[1;31mValueError\u001b[0m: all the input array dimensions for the concatenation axis must match exactly, but along dimension 1, the array at index 0 has size 3 and the array at index 1 has size 1"
     ]
    }
   ],
   "source": [
    "import numpy as np\n",
    "arr = np.array([[1, 2, 3], [4, 5, 6]], float)\n",
    "print (arr)\n",
    "arr1 = np.append(arr, [[7, 8, 9]])\n",
    "print (arr1)\n",
    "print (\"After specifying axis\")\n",
    "arr1 = np.append(arr, [[7], [8]], axis = 0)\n",
    "print (arr1)"
   ]
  },
  {
   "cell_type": "code",
   "execution_count": 103,
   "id": "4f2dc68b",
   "metadata": {},
   "outputs": [
    {
     "name": "stdout",
     "output_type": "stream",
     "text": [
      "[[1. 2. 4.]\n",
      " [3. 4. 2.]]\n",
      "16.0\n",
      "192.0\n",
      "[4. 6. 6.]\n",
      "mean\n",
      "[2. 3. 3.]\n",
      "[2.33333333 3.        ]\n"
     ]
    }
   ],
   "source": [
    "import numpy as np\n",
    "arr1 = np.array([[1, 2, 4],[3, 4, 2]], float)\n",
    "print (arr1)\n",
    "print (np.sum(arr1))\n",
    "print (np.product(arr1))\n",
    "print (np.sum(arr1, axis = 0))\n",
    "print (\"mean\")\n",
    "print (np.mean(arr1, axis = 0))\n",
    "print (np.mean(arr1, axis = 1))"
   ]
  },
  {
   "cell_type": "code",
   "execution_count": 105,
   "id": "8fa4ecfa",
   "metadata": {},
   "outputs": [
    {
     "name": "stdout",
     "output_type": "stream",
     "text": [
      "[12. 43. 73. 36.]\n",
      "[[45.  3. 67. 34.]]\n"
     ]
    }
   ],
   "source": [
    "import numpy as np\n",
    "90arr2D = np.array([[45, 3, 67, 34],[12, 43, 73, 36]], float)\n",
    "print (arr2D[1])\n",
    "boolArr3 = np.array([True, False], bool)\n",
    "print (arr2D[boolArr3])"
   ]
  },
  {
   "cell_type": "code",
   "execution_count": 118,
   "id": "e1e40845",
   "metadata": {},
   "outputs": [
    {
     "name": "stdout",
     "output_type": "stream",
     "text": [
      "a    1.375835\n",
      "b    0.187990\n",
      "c   -1.221104\n",
      "d   -1.592063\n",
      "e    1.042371\n",
      "dtype: float64\n",
      "0    1.285047\n",
      "1   -1.119435\n",
      "2    0.318071\n",
      "3    0.009208\n",
      "4    0.925318\n",
      "dtype: float64\n",
      "a    1.375835\n",
      "c   -1.221104\n",
      "dtype: float64\n"
     ]
    }
   ],
   "source": [
    "import numpy as np\n",
    "import pandas as pd\n",
    "\n",
    "s1 = pd.Series(np.random.randn(5), index = ['a','b','c','d','e'])\n",
    "print(s1)\n",
    "s2 = pd.Series(np.random.randn(5))\n",
    "print(s2)\n",
    "\n",
    "print(s1[[0,2]])"
   ]
  },
  {
   "cell_type": "code",
   "execution_count": 132,
   "id": "3c38abb6",
   "metadata": {},
   "outputs": [
    {
     "name": "stdout",
     "output_type": "stream",
     "text": [
      "245\n"
     ]
    }
   ],
   "source": [
    "import numpy as np\n",
    "import pandas as pd\n",
    "\n",
    "c = {\"dublin\":245,\"budapest\":500}\n",
    "#print(c[\"dublin\"])\n",
    "iris = pd.Series(c)\n",
    "print(iris[\"dublin\"])"
   ]
  },
  {
   "cell_type": "code",
   "execution_count": 135,
   "id": "9c8d509f",
   "metadata": {},
   "outputs": [
    {
     "name": "stdout",
     "output_type": "stream",
     "text": [
      "a    0.044984\n",
      "b    0.367460\n",
      "c    0.926944\n",
      "dtype: float64\n",
      "        one       two     three\n",
      "a  0.044984  0.234976  0.543598\n",
      "b  0.367460  0.619888  0.561648\n",
      "c  0.926944  0.625668  0.852189\n"
     ]
    }
   ],
   "source": [
    "import numpy as np\n",
    "import pandas as pd\n",
    "\n",
    "seriesA = pd.Series(np.random.rand(3), index = [\"a\",\"b\",\"c\"])\n",
    "seriesB = pd.Series(np.random.rand(3), index = [\"a\",\"b\",\"c\"])\n",
    "seriesC = pd.Series(np.random.rand(3), index = [\"a\",\"b\",\"c\"])\n",
    "\n",
    "print(seriesA)\n",
    "df = pd.DataFrame({'one': seriesA, 'two': seriesB, 'three': seriesC})\n",
    "\n",
    "print(df)"
   ]
  },
  {
   "cell_type": "code",
   "execution_count": 137,
   "id": "cb24778b",
   "metadata": {},
   "outputs": [
    {
     "name": "stdout",
     "output_type": "stream",
     "text": [
      "S1\n",
      "\n",
      "\n",
      "a    0.232959\n",
      "b   -2.975933\n",
      "c    0.587198\n",
      "d   -0.225237\n",
      "e   -0.473102\n",
      "dtype: float64\n",
      "S2\n",
      "\n",
      "\n",
      "0    0.551736\n",
      "1   -0.934815\n",
      "2    0.169120\n",
      "3   -0.981567\n",
      "4    0.410685\n",
      "dtype: float64\n",
      "S2[1]:\n",
      "\n",
      "\n",
      "-0.9348149829554516\n",
      "s2[[2, 2]]:\n",
      "\n",
      "\n",
      "2    0.16912\n",
      "2    0.16912\n",
      "dtype: float64\n"
     ]
    }
   ],
   "source": [
    "import numpy as np\n",
    "import pandas as pd\n",
    "s1 = pd.Series( np.random.randn(5), index=['a','b','c','d','e'])\n",
    "s2 = pd.Series(np.random.randn(5))\n",
    "print (\"S1\\n\\n\")\n",
    "print (s1)\n",
    "print (\"S2\\n\\n\")\n",
    "print (s2)\n",
    "print (\"S2[1]:\\n\\n\")\n",
    "print (s2[1])\n",
    "print (\"s2[[2, 2]]:\\n\\n\")\n",
    "print (s2[[2, 2]])"
   ]
  },
  {
   "cell_type": "code",
   "execution_count": null,
   "id": "b58b1110",
   "metadata": {},
   "outputs": [],
   "source": []
  }
 ],
 "metadata": {
  "kernelspec": {
   "display_name": "Python 3 (ipykernel)",
   "language": "python",
   "name": "python3"
  },
  "language_info": {
   "codemirror_mode": {
    "name": "ipython",
    "version": 3
   },
   "file_extension": ".py",
   "mimetype": "text/x-python",
   "name": "python",
   "nbconvert_exporter": "python",
   "pygments_lexer": "ipython3",
   "version": "3.9.12"
  }
 },
 "nbformat": 4,
 "nbformat_minor": 5
}
