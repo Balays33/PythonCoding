{
 "cells": [
  {
   "cell_type": "code",
   "execution_count": 1,
   "metadata": {},
   "outputs": [],
   "source": [
    "area = 30\n",
    "perimeter = 2*(area)"
   ]
  },
  {
   "cell_type": "code",
   "execution_count": 6,
   "metadata": {},
   "outputs": [
    {
     "name": "stdout",
     "output_type": "stream",
     "text": [
      "62\n",
      "34\n",
      "26\n",
      "22\n",
      "22\n",
      "26\n",
      "34\n",
      "62\n",
      "22\n"
     ]
    }
   ],
   "source": [
    "for i in range(1,area+1):\n",
    "    for j in range(1,area+1):\n",
    "        help = i*j\n",
    "        if help == area:\n",
    "            perimeterHelp = 2*(i+j)\n",
    "            print(perimeterHelp)\n",
    "            if perimeter> perimeterHelp:\n",
    "                perimeter= perimeterHelp\n",
    "                A=i\n",
    "                B=j"
   ]
  },
  {
   "cell_type": "code",
   "execution_count": 14,
   "metadata": {},
   "outputs": [
    {
     "name": "stdout",
     "output_type": "stream",
     "text": [
      "A parameter: 5  B parameter: 6  perimeter: 22\n"
     ]
    }
   ],
   "source": [
    "print(\"A parameter: {0}  B parameter: {1}  perimeter: {2}\".format(A,B,perimeter))\n"
   ]
  },
  {
   "cell_type": "code",
   "execution_count": null,
   "metadata": {},
   "outputs": [],
   "source": []
  }
 ],
 "metadata": {
  "kernelspec": {
   "display_name": "Python 3",
   "language": "python",
   "name": "python3"
  },
  "language_info": {
   "codemirror_mode": {
    "name": "ipython",
    "version": 3
   },
   "file_extension": ".py",
   "mimetype": "text/x-python",
   "name": "python",
   "nbconvert_exporter": "python",
   "pygments_lexer": "ipython3",
   "version": "3.7.1"
  }
 },
 "nbformat": 4,
 "nbformat_minor": 2
}
