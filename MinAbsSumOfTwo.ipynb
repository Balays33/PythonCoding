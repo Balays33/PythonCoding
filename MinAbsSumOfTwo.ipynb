{
 "cells": [
  {
   "cell_type": "code",
   "execution_count": 1,
   "metadata": {},
   "outputs": [],
   "source": [
    "minAbsSumOfTwoN=[-8,4,5,-10,3]"
   ]
  },
  {
   "cell_type": "code",
   "execution_count": 2,
   "metadata": {},
   "outputs": [
    {
     "data": {
      "text/plain": [
       "[-8, 4, 5, -10, 3]"
      ]
     },
     "execution_count": 2,
     "metadata": {},
     "output_type": "execute_result"
    }
   ],
   "source": [
    "minAbsSumOfTwoN"
   ]
  },
  {
   "cell_type": "code",
   "execution_count": 14,
   "metadata": {},
   "outputs": [
    {
     "name": "stdout",
     "output_type": "stream",
     "text": [
      "16\n",
      "4\n",
      "3\n",
      "18\n",
      "5\n",
      "4\n",
      "8\n",
      "9\n",
      "6\n",
      "7\n",
      "3\n",
      "9\n",
      "10\n",
      "5\n",
      "8\n",
      "18\n",
      "6\n",
      "5\n",
      "20\n",
      "7\n",
      "5\n",
      "7\n",
      "8\n",
      "7\n",
      "6\n"
     ]
    }
   ],
   "source": [
    "\n",
    "for x in minAbsSumOfTwoN:\n",
    "    for y in minAbsSumOfTwoN:\n",
    "        AbsSumN = abs(x+y)\n",
    "        if (x==0 & y==0):\n",
    "            minAbsSumN = AbsSumN\n",
    "        print(AbsSumN)\n",
    "        if (minAbsSumN > AbsSumN):\n",
    "            minAbsSumN=AbsSumN\n",
    "        "
   ]
  },
  {
   "cell_type": "code",
   "execution_count": 15,
   "metadata": {},
   "outputs": [
    {
     "data": {
      "text/plain": [
       "3"
      ]
     },
     "execution_count": 15,
     "metadata": {},
     "output_type": "execute_result"
    }
   ],
   "source": [
    "minAbsSumN"
   ]
  },
  {
   "cell_type": "code",
   "execution_count": null,
   "metadata": {},
   "outputs": [],
   "source": []
  }
 ],
 "metadata": {
  "kernelspec": {
   "display_name": "Python 3",
   "language": "python",
   "name": "python3"
  },
  "language_info": {
   "codemirror_mode": {
    "name": "ipython",
    "version": 3
   },
   "file_extension": ".py",
   "mimetype": "text/x-python",
   "name": "python",
   "nbconvert_exporter": "python",
   "pygments_lexer": "ipython3",
   "version": "3.7.1"
  }
 },
 "nbformat": 4,
 "nbformat_minor": 2
}
