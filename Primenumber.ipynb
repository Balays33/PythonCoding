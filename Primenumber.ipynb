{
 "cells": [
  {
   "cell_type": "code",
   "execution_count": 2,
   "metadata": {},
   "outputs": [
    {
     "name": "stdout",
     "output_type": "stream",
     "text": [
      "Write a Java program to check if a given number is prime or not. \n",
      "Remember, a prime number is a number which is not divisible by any other number, \n",
      "e.g. 3, 5, 7, 11, 13, 17, etc. Be prepared for cross, e.g. checking till the square root of a number, etc.\n",
      "\n"
     ]
    }
   ],
   "source": [
    "print(\"Write a Java program to check if a given number is prime or not. \"\n",
    "                +\"\\n\" +\"Remember, a prime number is a number which is not divisible by any other number, \"\n",
    "                +\"\\n\" + \"e.g. 3, 5, 7, 11, 13, 17, etc. Be prepared for cross, e.g. checking till the square root of a number, etc.\\n\")"
   ]
  },
  {
   "cell_type": "code",
   "execution_count": 69,
   "metadata": {},
   "outputs": [
    {
     "name": "stdout",
     "output_type": "stream",
     "text": [
      "Please give a number97\n",
      "2\n",
      "This is prime number\n"
     ]
    }
   ],
   "source": [
    "inputNumber =  int(input('Please give a number'))\n",
    "#print(inputNumber)\n",
    "testNumber = 0\n",
    "#test = 18 % 2\n",
    "#print(test)\n",
    "divn =1\n",
    "for num in range(inputNumber):\n",
    "    #print(num)\n",
    "    divNumber = inputNumber % divn;\n",
    "    #print(divNumber)\n",
    "    divn +=1\n",
    "    if divNumber == 0:\n",
    "        testNumber +=1\n",
    "print(testNumber)\n",
    "\n",
    "if testNumber<3:\n",
    "    print(\"This is prime number\")\n",
    "else:\n",
    "    print(\"This is NOT prime number\")\n",
    "\n"
   ]
  },
  {
   "cell_type": "code",
   "execution_count": null,
   "metadata": {},
   "outputs": [],
   "source": []
  },
  {
   "cell_type": "code",
   "execution_count": null,
   "metadata": {},
   "outputs": [],
   "source": []
  }
 ],
 "metadata": {
  "kernelspec": {
   "display_name": "Python 3",
   "language": "python",
   "name": "python3"
  },
  "language_info": {
   "codemirror_mode": {
    "name": "ipython",
    "version": 3
   },
   "file_extension": ".py",
   "mimetype": "text/x-python",
   "name": "python",
   "nbconvert_exporter": "python",
   "pygments_lexer": "ipython3",
   "version": "3.7.1"
  }
 },
 "nbformat": 4,
 "nbformat_minor": 2
}
