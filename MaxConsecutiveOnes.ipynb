{
 "cells": [
  {
   "cell_type": "code",
   "execution_count": 86,
   "metadata": {},
   "outputs": [],
   "source": [
    "# Returns count of maximum  \n",
    "# consecutive 1's in binary \n",
    "# array arr[0..n-1] \n",
    "def getMaxLength(arr, n): \n",
    "  \n",
    "    # intitialize count \n",
    "    count = 0 \n",
    "      \n",
    "    # initialize max \n",
    "    result = 0 \n",
    "  \n",
    "    for i in range(0, n): \n",
    "      \n",
    "        # Reset count when 0 is found \n",
    "        if (arr[i] == 0): \n",
    "            count = 0\n",
    "  \n",
    "        # If 1 is found, increment count \n",
    "        # and update result if count  \n",
    "        # becomes more. \n",
    "        else: \n",
    "              \n",
    "            # increase count \n",
    "            count+= 1 \n",
    "            result = max(result, count)  \n",
    "          \n",
    "    return result "
   ]
  },
  {
   "cell_type": "code",
   "execution_count": 87,
   "metadata": {},
   "outputs": [
    {
     "name": "stdout",
     "output_type": "stream",
     "text": [
      "4\n"
     ]
    }
   ],
   "source": [
    "# Driver code \n",
    "arr = [1, 1, 0, 0, 1, 0, 1,  \n",
    "             0, 1, 1, 1, 1]  \n",
    "n = len(arr)  \n",
    "  \n",
    "print(getMaxLength(arr, n)) "
   ]
  },
  {
   "cell_type": "code",
   "execution_count": null,
   "metadata": {},
   "outputs": [],
   "source": []
  }
 ],
 "metadata": {
  "kernelspec": {
   "display_name": "Python 3",
   "language": "python",
   "name": "python3"
  },
  "language_info": {
   "codemirror_mode": {
    "name": "ipython",
    "version": 3
   },
   "file_extension": ".py",
   "mimetype": "text/x-python",
   "name": "python",
   "nbconvert_exporter": "python",
   "pygments_lexer": "ipython3",
   "version": "3.7.1"
  }
 },
 "nbformat": 4,
 "nbformat_minor": 2
}
