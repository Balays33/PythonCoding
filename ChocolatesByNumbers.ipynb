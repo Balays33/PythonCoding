{
 "cells": [
  {
   "cell_type": "code",
   "execution_count": null,
   "metadata": {},
   "outputs": [],
   "source": [
    "#ChocolatesByNumbers\n",
    "N=10\n",
    "M=4\n",
    "result =1\n",
    "step =0\n",
    "circle = True\n",
    "chocolateC = {}\n",
    "for x in range(N):\n",
    "    #print(x)\n",
    "    chocolateC[x] = 1\n",
    "    \n"
   ]
  },
  {
   "cell_type": "code",
   "execution_count": null,
   "metadata": {},
   "outputs": [],
   "source": [
    "chocolateC[0] = 0\n",
    "while circle:\n",
    "    print(\"Hello\")\n",
    "    if step+M > N:\n",
    "        step = (step+M)-N\n",
    "    elif step+M == N:\n",
    "        step = 0\n",
    "    else: \n",
    "        step = step+M\n",
    "    if chocolateC[step] == 1:\n",
    "        chocolateC[step] = 0\n",
    "        result++\n",
    "        print(result)\n",
    "    else:\n",
    "        circle = False"
   ]
  },
  {
   "cell_type": "code",
   "execution_count": null,
   "metadata": {},
   "outputs": [],
   "source": [
    "print(result)"
   ]
  },
  {
   "cell_type": "code",
   "execution_count": null,
   "metadata": {},
   "outputs": [],
   "source": []
  }
 ],
 "metadata": {
  "kernelspec": {
   "display_name": "Python 3",
   "language": "python",
   "name": "python3"
  },
  "language_info": {
   "codemirror_mode": {
    "name": "ipython",
    "version": 3
   },
   "file_extension": ".py",
   "mimetype": "text/x-python",
   "name": "python",
   "nbconvert_exporter": "python",
   "pygments_lexer": "ipython3",
   "version": "3.7.1"
  }
 },
 "nbformat": 4,
 "nbformat_minor": 2
}
