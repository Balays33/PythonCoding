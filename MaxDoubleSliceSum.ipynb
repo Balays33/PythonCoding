{
 "cells": [
  {
   "cell_type": "code",
   "execution_count": 75,
   "metadata": {},
   "outputs": [],
   "source": [
    "maxDoubleSliceSumN = [3,2,6,-1,4,5,-1,2]\n",
    "#maxDoubleSliceSumN = [5,1,3,-2,5,-1,6,2]"
   ]
  },
  {
   "cell_type": "code",
   "execution_count": 76,
   "metadata": {},
   "outputs": [
    {
     "name": "stdout",
     "output_type": "stream",
     "text": [
      "[3, 2, 6, -1, 4, 5, -1, 2]\n"
     ]
    }
   ],
   "source": [
    "print(maxDoubleSliceSumN)"
   ]
  },
  {
   "cell_type": "code",
   "execution_count": 77,
   "metadata": {},
   "outputs": [],
   "source": [
    "X = len(maxDoubleSliceSumN)\n",
    "result =0\n",
    "helpN=0"
   ]
  },
  {
   "cell_type": "code",
   "execution_count": 78,
   "metadata": {},
   "outputs": [],
   "source": [
    "for x in range(len(maxDoubleSliceSumN)-2):\n",
    "    #print(maxDoubleSliceSumN[x])\n",
    "    for y in range(x+1,len(maxDoubleSliceSumN)-1):\n",
    "        #print(maxDoubleSliceSumN[y])\n",
    "        for z in range(y+1,len(maxDoubleSliceSumN)):\n",
    "            ##print(maxDoubleSliceSumN[z])\n",
    "            #helpN = A[x]+A[y]+A[z];\n",
    "            #helpN = maxDoubleSliceSumN[x]+maxDoubleSliceSumN[y]+maxDoubleSliceSumN[z]\n",
    "            #print(helpN,maxDoubleSliceSumN[x],maxDoubleSliceSumN[y],maxDoubleSliceSumN[z] )\n",
    "            i = X+1 \n",
    "            while(i<y):\n",
    "                helpN += maxDoubleSliceSumN[i]\n",
    "                i +=1\n",
    "            j = y+1\n",
    "            while(j<z):\n",
    "                helpN += maxDoubleSliceSumN[j]\n",
    "                j +=1\n",
    "            #print(helpN)\n",
    "            if result < helpN:\n",
    "                result = helpN\n",
    "            \n",
    "            helpN=0;   \n"
   ]
  },
  {
   "cell_type": "code",
   "execution_count": 79,
   "metadata": {},
   "outputs": [
    {
     "name": "stdout",
     "output_type": "stream",
     "text": [
      "14\n"
     ]
    }
   ],
   "source": [
    "print(result)\n",
    "    "
   ]
  },
  {
   "cell_type": "code",
   "execution_count": null,
   "metadata": {},
   "outputs": [],
   "source": []
  }
 ],
 "metadata": {
  "kernelspec": {
   "display_name": "Python 3",
   "language": "python",
   "name": "python3"
  },
  "language_info": {
   "codemirror_mode": {
    "name": "ipython",
    "version": 3
   },
   "file_extension": ".py",
   "mimetype": "text/x-python",
   "name": "python",
   "nbconvert_exporter": "python",
   "pygments_lexer": "ipython3",
   "version": "3.7.1"
  }
 },
 "nbformat": 4,
 "nbformat_minor": 2
}
