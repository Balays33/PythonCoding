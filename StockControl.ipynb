{
 "cells": [
  {
   "cell_type": "code",
   "execution_count": 8,
   "metadata": {},
   "outputs": [
    {
     "name": "stdout",
     "output_type": "stream",
     "text": [
      "Stock Control\n",
      "What is your namee\n",
      "BOARD GRADE: b\n",
      "What is the pallet height:120\n",
      "e\n",
      "60.0\n",
      "Hello my name is John\n"
     ]
    }
   ],
   "source": [
    "print(\"Stock Control\")\n",
    "name = input(\"What is your name\")\n",
    "boardGrade = input(\"BOARD GRADE: \")\n",
    "palletheight = input(\"What is the pallet height:\")\n",
    "\n",
    "\n",
    "\n",
    "class Progress:\n",
    "    def __init__(self,name,boardGrade,palletheight):\n",
    "        self.name = name\n",
    "        self.boardGrade = boardGrade\n",
    "        self.palletheight = palletheight\n",
    "    \n",
    "    def countQuantity(self):\n",
    "        quantity = float(self.palletheight)/2\n",
    "        print(quantity)\n",
    "        return quantity\n",
    "        \n",
    "\n",
    "pr1 = Progress(name,boardGrade,palletheight)\n",
    "print(pr1.name)\n",
    "pr1.countQuantity()\n",
    "\n",
    "        \n",
    "\n",
    "''' \n",
    "class Person:\n",
    "    \n",
    "    def __init__(self, name, age):\n",
    "        self.name = name\n",
    "        self.age = age\n",
    "\n",
    "    def myfunc(self):\n",
    "        print(\"Hello my name is \" + self.name)\n",
    "\n",
    "p1 = Person(\"John\", 36)\n",
    "p1.myfunc()\n",
    "''''''"
   ]
  },
  {
   "cell_type": "code",
   "execution_count": null,
   "metadata": {},
   "outputs": [],
   "source": []
  }
 ],
 "metadata": {
  "kernelspec": {
   "display_name": "Python 3",
   "language": "python",
   "name": "python3"
  },
  "language_info": {
   "codemirror_mode": {
    "name": "ipython",
    "version": 3
   },
   "file_extension": ".py",
   "mimetype": "text/x-python",
   "name": "python",
   "nbconvert_exporter": "python",
   "pygments_lexer": "ipython3",
   "version": "3.7.1"
  }
 },
 "nbformat": 4,
 "nbformat_minor": 2
}
