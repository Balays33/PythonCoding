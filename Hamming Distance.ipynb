{
 "cells": [
  {
   "cell_type": "code",
   "execution_count": 18,
   "metadata": {},
   "outputs": [
    {
     "ename": "SyntaxError",
     "evalue": "invalid syntax (<ipython-input-18-4a4e74f2d342>, line 1)",
     "output_type": "error",
     "traceback": [
      "\u001b[1;36m  File \u001b[1;32m\"<ipython-input-18-4a4e74f2d342>\"\u001b[1;36m, line \u001b[1;32m1\u001b[0m\n\u001b[1;33m    The Hamming distance between two integers is the number of positions at which the corresponding bits are different.\u001b[0m\n\u001b[1;37m              ^\u001b[0m\n\u001b[1;31mSyntaxError\u001b[0m\u001b[1;31m:\u001b[0m invalid syntax\n"
     ]
    }
   ],
   "source": [
    "The Hamming distance between two integers is the number of positions at which the corresponding bits are different.\n",
    "\n",
    "Given two integers x and y, calculate the Hamming distance.\n",
    "\n",
    "Note:\n",
    "0 ≤ x, y < 231.\n",
    "\n",
    "Example:\n",
    "\n",
    "Input: x = 1, y = 4\n",
    "\n",
    "Output: 2\n",
    "\n",
    "Explanation:\n",
    "1   (0 0 0 1)\n",
    "4   (0 1 0 0)\n",
    "       ↑   ↑\n",
    "\n",
    "The above arrows point to positions where the corresponding bits are different."
   ]
  },
  {
   "cell_type": "code",
   "execution_count": 76,
   "metadata": {},
   "outputs": [],
   "source": []
  },
  {
   "cell_type": "code",
   "execution_count": 81,
   "metadata": {},
   "outputs": [],
   "source": [
    "result = 0\n",
    "def hammingDistance( x, y):\n",
    "        print(x,y)\n",
    "        print(bin(x))\n",
    "        print(bin(y))\n",
    "        if bin(x) == bin(y):\n",
    "            print(\"Hamming distance between two integers is null\")\n",
    "        elif bin(x) > bin(y):\n",
    "            for i in bin(x):\n",
    "                print(\"Hamming distance between two integers is null\")\n",
    "                print(i)\n",
    "        elif bin(y) > bin(x):\n",
    "            for i in bin(y):\n",
    "                ##print(i)\n",
    "                n1 = bin(x).replace(\"0b\", \"\")\n",
    "                n2 = bin(y).replace(\"0b\", \"\")\n",
    "                print(n1,n2)\n",
    "                if n2 != n1:\n",
    "                    print(\"test\")\n",
    "                    ##result += 1"
   ]
  },
  {
   "cell_type": "code",
   "execution_count": 82,
   "metadata": {},
   "outputs": [
    {
     "name": "stdout",
     "output_type": "stream",
     "text": [
      "1 4\n",
      "0b1\n",
      "0b100\n",
      "1 100\n",
      "test\n",
      "1 100\n",
      "test\n",
      "1 100\n",
      "test\n",
      "1 100\n",
      "test\n",
      "1 100\n",
      "test\n"
     ]
    }
   ],
   "source": [
    "hammingDistance(1,4)\n"
   ]
  },
  {
   "cell_type": "code",
   "execution_count": 47,
   "metadata": {},
   "outputs": [],
   "source": [
    "def decimalToBinary(x):\n",
    "    return bin(x).replace(\"0b\", \"\")"
   ]
  },
  {
   "cell_type": "code",
   "execution_count": null,
   "metadata": {},
   "outputs": [],
   "source": []
  }
 ],
 "metadata": {
  "kernelspec": {
   "display_name": "Python 3",
   "language": "python",
   "name": "python3"
  },
  "language_info": {
   "codemirror_mode": {
    "name": "ipython",
    "version": 3
   },
   "file_extension": ".py",
   "mimetype": "text/x-python",
   "name": "python",
   "nbconvert_exporter": "python",
   "pygments_lexer": "ipython3",
   "version": "3.7.1"
  }
 },
 "nbformat": 4,
 "nbformat_minor": 2
}
