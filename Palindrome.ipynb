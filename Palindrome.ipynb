{
 "cells": [
  {
   "cell_type": "code",
   "execution_count": 21,
   "metadata": {},
   "outputs": [
    {
     "name": "stdout",
     "output_type": "stream",
     "text": [
      "Enter a string/number to check if it is a palindromeJustyna\n",
      "anytsuJ\n",
      "Entered string/number isn't a palindrome.\n"
     ]
    }
   ],
   "source": [
    "original = input(\"Enter a string/number to check if it is a palindrome\")\n",
    "# print(original)\n",
    "# len(original)\n",
    "\n",
    "revers = original[::-1]\n",
    "print(revers)\n",
    "if (original == revers) :\n",
    "    print(\"Entered string/number is a palindrome.\")\n",
    "else:\n",
    "    print(\"Entered string/number isn't a palindrome.\")"
   ]
  },
  {
   "cell_type": "code",
   "execution_count": null,
   "metadata": {},
   "outputs": [],
   "source": []
  }
 ],
 "metadata": {
  "kernelspec": {
   "display_name": "Python 3",
   "language": "python",
   "name": "python3"
  },
  "language_info": {
   "codemirror_mode": {
    "name": "ipython",
    "version": 3
   },
   "file_extension": ".py",
   "mimetype": "text/x-python",
   "name": "python",
   "nbconvert_exporter": "python",
   "pygments_lexer": "ipython3",
   "version": "3.7.1"
  }
 },
 "nbformat": 4,
 "nbformat_minor": 2
}
