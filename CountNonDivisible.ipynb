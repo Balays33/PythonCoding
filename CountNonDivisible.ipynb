{
 "cells": [
  {
   "cell_type": "code",
   "execution_count": 27,
   "metadata": {},
   "outputs": [
    {
     "name": "stdout",
     "output_type": "stream",
     "text": [
      "CountNonDivisible\n"
     ]
    }
   ],
   "source": [
    "print('CountNonDivisible')\n",
    "CountNonDivisibleN = [3,1,2,3,6]\n",
    "#CountNonDivisibleN = [4,1,2,3,6]\n",
    "result=[]\n",
    "help=0"
   ]
  },
  {
   "cell_type": "code",
   "execution_count": 28,
   "metadata": {},
   "outputs": [
    {
     "name": "stdout",
     "output_type": "stream",
     "text": [
      "2\n",
      "4\n",
      "3\n",
      "2\n",
      "0\n"
     ]
    }
   ],
   "source": [
    "for i in range(len(CountNonDivisibleN)):\n",
    "    #print(i)\n",
    "    help=0\n",
    "    for j in range(len(CountNonDivisibleN)):\n",
    "        #print(j)\n",
    "        if CountNonDivisibleN[i]%CountNonDivisibleN[j]!=0:\n",
    "            help+=1\n",
    "    print(help)       \n",
    "    result.append(help)"
   ]
  },
  {
   "cell_type": "code",
   "execution_count": 29,
   "metadata": {},
   "outputs": [
    {
     "data": {
      "text/plain": [
       "[2, 4, 3, 2, 0]"
      ]
     },
     "execution_count": 29,
     "metadata": {},
     "output_type": "execute_result"
    }
   ],
   "source": [
    "result"
   ]
  }
 ],
 "metadata": {
  "kernelspec": {
   "display_name": "Python 3",
   "language": "python",
   "name": "python3"
  },
  "language_info": {
   "codemirror_mode": {
    "name": "ipython",
    "version": 3
   },
   "file_extension": ".py",
   "mimetype": "text/x-python",
   "name": "python",
   "nbconvert_exporter": "python",
   "pygments_lexer": "ipython3",
   "version": "3.7.1"
  }
 },
 "nbformat": 4,
 "nbformat_minor": 2
}
