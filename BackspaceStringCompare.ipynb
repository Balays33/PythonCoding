{
 "cells": [
  {
   "cell_type": "markdown",
   "metadata": {},
   "source": [
    ".Backspace String Compare\n",
    "\n",
    "Share Given two strings s and t, return true if they are equal when both are typed into empty text editors. '#' means a backspace character.\n",
    "\n",
    "Note that after backspacing an empty text, the text will continue empty.\n",
    "\n",
    "Example 1:\n",
    "\n",
    "Input: s = \"ab#c\", t = \"ad#c\" Output: true Explanation: Both s and t become \"ac\". Example 2:\n",
    "\n",
    "Input: s = \"ab##\", t = \"c#d#\" Output: true Explanation: Both s and t become \"\". Example 3:\n",
    "\n",
    "Input: s = \"a##c\", t = \"#a#c\" Output: true Explanation: Both s and t become \"c\". Example 4:\n",
    "\n",
    "Input: s = \"a#c\", t = \"b\" Output: false Explanation: s becomes \"c\" while t becomes \"b\".\n",
    "\n",
    "Constraints:\n",
    "\n",
    "1 <= s.length, t.length <= 200 s and t only contain lowercase letters and '#' characters.\n",
    "\n",
    "Follow up: Can you solve it in O(n) time and O(1) space?"
   ]
  },
  {
   "cell_type": "code",
   "execution_count": 24,
   "metadata": {},
   "outputs": [
    {
     "name": "stdout",
     "output_type": "stream",
     "text": [
      "ab#c\n",
      "ad#c\n"
     ]
    }
   ],
   "source": [
    "s = \"ab#c\"\n",
    "t = \"ad#c\"\n",
    "print(s)\n",
    "print(t)\n"
   ]
  },
  {
   "cell_type": "code",
   "execution_count": 25,
   "metadata": {},
   "outputs": [],
   "source": [
    "s = \"ab##\"\n",
    "t = \"c#d#\""
   ]
  },
  {
   "cell_type": "code",
   "execution_count": 28,
   "metadata": {},
   "outputs": [],
   "source": [
    "s = \"a##c\"\n",
    "t = \"#a#c\""
   ]
  },
  {
   "cell_type": "code",
   "execution_count": 30,
   "metadata": {},
   "outputs": [],
   "source": [
    "s = \"a#c\"\n",
    "t = \"b\""
   ]
  },
  {
   "cell_type": "code",
   "execution_count": 31,
   "metadata": {},
   "outputs": [
    {
     "name": "stdout",
     "output_type": "stream",
     "text": [
      "c\n",
      "b\n",
      "the result : False\n"
     ]
    }
   ],
   "source": [
    "result = False\n",
    "help1 =\"\"\n",
    "for sp in s:\n",
    "    help1 +=sp\n",
    "    if sp == \"#\":\n",
    "        help1 = help1[:-2]\n",
    "print(help1)\n",
    "\n",
    "help2 =\"\"\n",
    "for tp in t:\n",
    "    help2 +=tp\n",
    "    if tp == \"#\":\n",
    "        help2 = help2[:-2]\n",
    "print(help2)\n",
    "if help1 == help2:\n",
    "    result = True\n",
    "print(f'the result : {result}')"
   ]
  },
  {
   "cell_type": "code",
   "execution_count": 11,
   "metadata": {},
   "outputs": [
    {
     "name": "stdout",
     "output_type": "stream",
     "text": [
      "abcdefghi\n"
     ]
    }
   ],
   "source": [
    "my_str =  \"abcdefghij\"\n",
    "my_str = my_str[:-1]\n",
    "print(my_str)"
   ]
  },
  {
   "cell_type": "code",
   "execution_count": null,
   "metadata": {},
   "outputs": [],
   "source": []
  }
 ],
 "metadata": {
  "kernelspec": {
   "display_name": "Python 3",
   "language": "python",
   "name": "python3"
  },
  "language_info": {
   "codemirror_mode": {
    "name": "ipython",
    "version": 3
   },
   "file_extension": ".py",
   "mimetype": "text/x-python",
   "name": "python",
   "nbconvert_exporter": "python",
   "pygments_lexer": "ipython3",
   "version": "3.7.1"
  }
 },
 "nbformat": 4,
 "nbformat_minor": 2
}
