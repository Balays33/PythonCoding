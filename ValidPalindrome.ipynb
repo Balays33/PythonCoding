{
 "cells": [
  {
   "cell_type": "markdown",
   "metadata": {},
   "source": [
    " Valid Palindrome\n",
    "\n",
    "Given a string s, determine if it is a palindrome, considering only alphanumeric characters and ignoring cases.\n",
    "\n",
    " \n",
    "\n",
    "Example 1:\n",
    "\n",
    "Input: s = \"A man, a plan, a canal: Panama\"\n",
    "Output: true\n",
    "Explanation: \"amanaplanacanalpanama\" is a palindrome.\n",
    "Example 2:\n",
    "\n",
    "Input: s = \"race a car\"\n",
    "Output: false\n",
    "Explanation: \"raceacar\" is not a palindrome.\n",
    " \n",
    "\n",
    "Constraints:\n",
    "\n",
    "1 <= s.length <= 2 * 105\n",
    "s consists only of printable ASCII characters."
   ]
  },
  {
   "cell_type": "code",
   "execution_count": 27,
   "metadata": {},
   "outputs": [],
   "source": [
    "import re\n",
    "class Solution:\n",
    "    def isPalindrome(self, s: str):\n",
    "        self.s = s\n",
    "        Output = True\n",
    "        print(self.s)\n",
    "        #helpS = self.s.replace(\" \",\"\")\n",
    "        newString = re.sub(r'[^a-zA-Z]', \"\", self.s).lower()\n",
    "        print(newString)\n",
    "        middleN = (len(newString)//2)\n",
    "        print(newString[::-1])\n",
    "        sizeOfstr =(len(newString))-1\n",
    "        for x in range(middleN):\n",
    "            #print(newString[sizeOfstr-x])\n",
    "            if newString[x] != newString[sizeOfstr-x]:\n",
    "                print(\"Error\")\n",
    "                Output = False\n",
    "          \n",
    "        return Output    \n",
    "                \n",
    "        \n",
    "        \n",
    "    \n",
    "        \n",
    "        \n",
    "        "
   ]
  },
  {
   "cell_type": "code",
   "execution_count": 31,
   "metadata": {},
   "outputs": [
    {
     "name": "stdout",
     "output_type": "stream",
     "text": [
      "Abc def ghi jklm.\n",
      "abcdefghijklm\n",
      "mlkjihgfedcba\n",
      "Error\n",
      "Error\n",
      "Error\n",
      "Error\n",
      "Error\n",
      "Error\n"
     ]
    },
    {
     "data": {
      "text/plain": [
       "False"
      ]
     },
     "execution_count": 31,
     "metadata": {},
     "output_type": "execute_result"
    }
   ],
   "source": [
    "p1 = Solution()\n",
    "#s = \"A man, a plan, a canal: Panama\"\n",
    "#s = \"race a car\"\n",
    "#s = \"Too hot to hoot.\"\n",
    "s = \"Abc def ghi jklm.\"\n",
    "p1.isPalindrome(s)\n",
    "#p1.isPalindrome(input(\"please give a text\"))"
   ]
  },
  {
   "cell_type": "code",
   "execution_count": null,
   "metadata": {},
   "outputs": [],
   "source": []
  },
  {
   "cell_type": "code",
   "execution_count": 3,
   "metadata": {},
   "outputs": [
    {
     "name": "stdout",
     "output_type": "stream",
     "text": [
      "abcdefABCDEF\n"
     ]
    }
   ],
   "source": [
    "import re \n",
    " \n",
    "str = \"123456790abcdefABCDEF!@#$%^&*()_+<>?,./\" \n",
    "result = re.sub(r'[^a-zA-Z]', \"\", str) \n",
    "print(result)  \n"
   ]
  }
 ],
 "metadata": {
  "kernelspec": {
   "display_name": "Python 3",
   "language": "python",
   "name": "python3"
  },
  "language_info": {
   "codemirror_mode": {
    "name": "ipython",
    "version": 3
   },
   "file_extension": ".py",
   "mimetype": "text/x-python",
   "name": "python",
   "nbconvert_exporter": "python",
   "pygments_lexer": "ipython3",
   "version": "3.7.1"
  }
 },
 "nbformat": 4,
 "nbformat_minor": 2
}
