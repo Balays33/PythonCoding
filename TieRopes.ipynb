{
 "cells": [
  {
   "cell_type": "code",
   "execution_count": 32,
   "metadata": {},
   "outputs": [],
   "source": [
    "K =4;\n",
    "A =[1,2,3,4,1,1,3];\n",
    "tie = 0\n",
    "help =1\n",
    "result =0"
   ]
  },
  {
   "cell_type": "code",
   "execution_count": 33,
   "metadata": {},
   "outputs": [],
   "source": [
    "for i in range(0,len(A)-1):\n",
    "    #print(A[i])\n",
    "    tie = A[i]\n",
    "    help = 1\n",
    "    for j in range(i+1,len(A)):\n",
    "        #print(A[j])\n",
    "        if tie<K:\n",
    "            tie = tie+ A[j]\n",
    "            help+=1\n",
    "        else:\n",
    "            if help>result:\n",
    "                result = help\n",
    "            break\n",
    "    "
   ]
  },
  {
   "cell_type": "code",
   "execution_count": 35,
   "metadata": {},
   "outputs": [
    {
     "name": "stdout",
     "output_type": "stream",
     "text": [
      "3\n"
     ]
    }
   ],
   "source": [
    "print(result)"
   ]
  }
 ],
 "metadata": {
  "kernelspec": {
   "display_name": "Python 3",
   "language": "python",
   "name": "python3"
  },
  "language_info": {
   "codemirror_mode": {
    "name": "ipython",
    "version": 3
   },
   "file_extension": ".py",
   "mimetype": "text/x-python",
   "name": "python",
   "nbconvert_exporter": "python",
   "pygments_lexer": "ipython3",
   "version": "3.7.1"
  }
 },
 "nbformat": 4,
 "nbformat_minor": 2
}
