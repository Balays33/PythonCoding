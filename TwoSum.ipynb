{
 "cells": [
  {
   "cell_type": "code",
   "execution_count": null,
   "metadata": {},
   "outputs": [],
   "source": [
    " def twoSum(self, nums, target):\n",
    "        indices = []\n",
    "        numIdxDict = {}\n",
    "        for idx, num in enumerate(nums):\n",
    "            numIdxDict[num] = idx\n",
    "        for idx, num in enumerate(nums):\n",
    "            expectedNum = target - num\n",
    "            if expectedNum in numIdxDict:\n",
    "                if idx != numIdxDict[expectedNum]:\n",
    "                    indices.extend([idx, numIdxDict[expectedNum]])\n",
    "                    break\n",
    "        print(nums)\n",
    "        return sorted(indices)"
   ]
  },
  {
   "cell_type": "code",
   "execution_count": null,
   "metadata": {},
   "outputs": [],
   "source": [
    "sol = Solution()\n",
    "# nums = [2, 7, 11, 15]\n",
    "# target = 9\n",
    "nums = [3,2,4]\n",
    "target = 6\n",
    "out = sol.twoSum(nums, target)\n",
    "print(\"Res: \", out)"
   ]
  },
  {
   "cell_type": "code",
   "execution_count": null,
   "metadata": {},
   "outputs": [],
   "source": [
    "twoSum()"
   ]
  },
  {
   "cell_type": "code",
   "execution_count": null,
   "metadata": {},
   "outputs": [],
   "source": []
  },
  {
   "cell_type": "code",
   "execution_count": null,
   "metadata": {},
   "outputs": [],
   "source": []
  }
 ],
 "metadata": {
  "kernelspec": {
   "display_name": "Python 3",
   "language": "python",
   "name": "python3"
  },
  "language_info": {
   "codemirror_mode": {
    "name": "ipython",
    "version": 3
   },
   "file_extension": ".py",
   "mimetype": "text/x-python",
   "name": "python",
   "nbconvert_exporter": "python",
   "pygments_lexer": "ipython3",
   "version": "3.7.1"
  }
 },
 "nbformat": 4,
 "nbformat_minor": 2
}
