{
 "cells": [
  {
   "cell_type": "code",
   "execution_count": 7,
   "metadata": {},
   "outputs": [
    {
     "name": "stdout",
     "output_type": "stream",
     "text": [
      "Armstrong number (solution) A number is called an Armstrong number if it is equal to the cube of its every digit.\n",
      "For example, 153 is an Armstrong number because of 153= 1+ 125+27, which is equal to 1^3+5^3+3^3.\n",
      "You need to write a program to check if the given number is Armstrong number or not.\n"
     ]
    }
   ],
   "source": [
    "print(\"Armstrong number (solution) A number is called an Armstrong number if it is equal to the cube of its every digit.\" \n",
    "      +\"\\n\" +\"For example, 153 is an Armstrong number because of 153= 1+ 125+27, which is equal to 1^3+5^3+3^3.\" \n",
    "      +\"\\n\" +\"You need to write a program to check if the given number is Armstrong number or not.\")"
   ]
  },
  {
   "cell_type": "code",
   "execution_count": 8,
   "metadata": {},
   "outputs": [
    {
     "name": "stdout",
     "output_type": "stream",
     "text": [
      "Please give me a number: 407\n"
     ]
    },
    {
     "data": {
      "text/plain": [
       "3"
      ]
     },
     "execution_count": 8,
     "metadata": {},
     "output_type": "execute_result"
    }
   ],
   "source": [
    "number = input(\"Please give me a number: \")\n",
    "len(number)"
   ]
  },
  {
   "cell_type": "code",
   "execution_count": 9,
   "metadata": {},
   "outputs": [
    {
     "name": "stdout",
     "output_type": "stream",
     "text": [
      "4\n",
      "64\n",
      "0\n",
      "0\n",
      "7\n",
      "343\n",
      "407\n",
      "407\n",
      "This is Armstrong number\n"
     ]
    }
   ],
   "source": [
    "result = 0\n",
    "for x in number:\n",
    "  print(x)\n",
    "  print(int(x)**3)\n",
    "  result += int(x)**3\n",
    "\n",
    "print(result)\n",
    "print(number)\n",
    "\n",
    "if int(result) == int(number):\n",
    "    print(\"This is Armstrong number\")\n",
    "else:\n",
    "    print(\"This is NOT Armstrong number\")"
   ]
  },
  {
   "cell_type": "code",
   "execution_count": null,
   "metadata": {},
   "outputs": [],
   "source": []
  }
 ],
 "metadata": {
  "kernelspec": {
   "display_name": "Python 3",
   "language": "python",
   "name": "python3"
  }
 },
 "nbformat": 4,
 "nbformat_minor": 2
}
