{
 "cells": [
  {
   "cell_type": "code",
   "execution_count": 28,
   "metadata": {},
   "outputs": [
    {
     "name": "stdout",
     "output_type": "stream",
     "text": [
      "maxProfit\n"
     ]
    }
   ],
   "source": [
    "print(\"maxProfit\")\n",
    "A =[23171,21011,21123,21366,21013,21367]\n",
    "result =0\n",
    "tempProfit =0"
   ]
  },
  {
   "cell_type": "code",
   "execution_count": 29,
   "metadata": {},
   "outputs": [],
   "source": [
    "i = len(A)-1\n",
    "j = len(A)-2\n",
    "while (i>0):\n",
    "    while(j>-1):\n",
    "        tempProfit = A[i]-A[j]\n",
    "        if (tempProfit > result):\n",
    "            result = tempProfit;\n",
    "            soldDay = A[i];\n",
    "            buyDay = A[j];\n",
    "        j -=1\n",
    "    #print(A[i])\n",
    "    i -=1\n",
    "    "
   ]
  },
  {
   "cell_type": "code",
   "execution_count": 47,
   "metadata": {},
   "outputs": [
    {
     "name": "stdout",
     "output_type": "stream",
     "text": [
      "356\n",
      "21367\n",
      "21011\n",
      "Result: 356 SoldDay 21367 buyDay 21011\n"
     ]
    }
   ],
   "source": [
    "print(result)\n",
    "print(soldDay)\n",
    "print(buyDay)\n",
    "print('Result:' ,result,'SoldDay',soldDay,'buyDay',buyDay)"
   ]
  },
  {
   "cell_type": "code",
   "execution_count": null,
   "metadata": {},
   "outputs": [],
   "source": []
  }
 ],
 "metadata": {
  "kernelspec": {
   "display_name": "Python 3",
   "language": "python",
   "name": "python3"
  },
  "language_info": {
   "codemirror_mode": {
    "name": "ipython",
    "version": 3
   },
   "file_extension": ".py",
   "mimetype": "text/x-python",
   "name": "python",
   "nbconvert_exporter": "python",
   "pygments_lexer": "ipython3",
   "version": "3.7.1"
  }
 },
 "nbformat": 4,
 "nbformat_minor": 2
}
