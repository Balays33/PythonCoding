{
 "cells": [
  {
   "cell_type": "markdown",
   "metadata": {},
   "source": [
    "Given n non-negative integers a1, a2, ..., an , where each represents a point at coordinate (i, ai). n vertical lines are drawn such that the two endpoints of line i is at (i, ai) and (i, 0). Find two lines, which together with x-axis forms a container, such that the container contains the most water.\n",
    "\n",
    "Note: You may not slant the container and n is at least 2.\n",
    "\n",
    " \n",
    "\n",
    "\n",
    "\n",
    "The above vertical lines are represented by array [1,8,6,2,5,4,8,3,7]. In this case, the max area of water (blue section) the container can contain is 49.\n",
    "\n",
    " \n",
    "\n",
    "Example:\n",
    "\n",
    "Input: [1,8,6,2,5,4,8,3,7]\n",
    "Output: 49"
   ]
  },
  {
   "cell_type": "code",
   "execution_count": 55,
   "metadata": {},
   "outputs": [],
   "source": [
    "class Solution():\n",
    "    def __init__(self,height):\n",
    "        print(\"Container With Most Water\")\n",
    "        self.height = height\n",
    "        area =0\n",
    "        help =0\n",
    "        length = 0\n",
    "        width = 0\n",
    "        \n",
    "    def maxArea(self):\n",
    "        print(\"height {}\".format(height))\n",
    "        result = 0\n",
    "        try: \n",
    "            #A=w*l\n",
    "            #length\n",
    "            #width\n",
    "            for x in range(len(height)-1):\n",
    "                #print(x)\n",
    "                for y in range(x+1,len(height)):\n",
    "                    #print(y)\n",
    "                    if height[x]>height[y]:\n",
    "                        area =height[y]*(y-x)\n",
    "                        help = height[y]\n",
    "                    else:\n",
    "                        area =height[x]*(y-x)\n",
    "                        help = height[x]\n",
    "                print(area)\n",
    "                if result < area:\n",
    "                    result = area\n",
    "                    length = y-1\n",
    "                    width = help\n",
    "                    \n",
    "        except:\n",
    "            print(\"Error\")\n",
    "        finally:\n",
    "            print(\"you have run the program\")\n",
    "        \n",
    "        \n",
    "        print(\"Result : {} length : {} width : {}\".format(result,length,width))\n",
    "        return result\n",
    "    \n",
    "\n",
    "        "
   ]
  },
  {
   "cell_type": "code",
   "execution_count": 56,
   "metadata": {},
   "outputs": [
    {
     "name": "stdout",
     "output_type": "stream",
     "text": [
      "Container With Most Water\n"
     ]
    }
   ],
   "source": [
    "height = [1,8,6,2,5,4,8,3,7]\n",
    "Solution = Solution(height)"
   ]
  },
  {
   "cell_type": "code",
   "execution_count": 57,
   "metadata": {},
   "outputs": [
    {
     "name": "stdout",
     "output_type": "stream",
     "text": [
      "height [1, 8, 6, 2, 5, 4, 8, 3, 7]\n",
      "8\n",
      "49\n",
      "36\n",
      "10\n",
      "20\n",
      "12\n",
      "14\n",
      "3\n",
      "you have run the program\n",
      "Result : 49 length : 7 width : 7\n"
     ]
    },
    {
     "data": {
      "text/plain": [
       "49"
      ]
     },
     "execution_count": 57,
     "metadata": {},
     "output_type": "execute_result"
    }
   ],
   "source": [
    "Solution.maxArea()"
   ]
  },
  {
   "cell_type": "code",
   "execution_count": null,
   "metadata": {},
   "outputs": [],
   "source": []
  },
  {
   "cell_type": "code",
   "execution_count": null,
   "metadata": {},
   "outputs": [],
   "source": []
  }
 ],
 "metadata": {
  "kernelspec": {
   "display_name": "Python 3",
   "language": "python",
   "name": "python3"
  },
  "language_info": {
   "codemirror_mode": {
    "name": "ipython",
    "version": 3
   },
   "file_extension": ".py",
   "mimetype": "text/x-python",
   "name": "python",
   "nbconvert_exporter": "python",
   "pygments_lexer": "ipython3",
   "version": "3.7.1"
  }
 },
 "nbformat": 4,
 "nbformat_minor": 2
}
