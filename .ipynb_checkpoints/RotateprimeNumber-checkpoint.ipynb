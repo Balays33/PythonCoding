{
 "cells": [
  {
   "cell_type": "code",
   "execution_count": 1,
   "metadata": {},
   "outputs": [],
   "source": [
    "#Kerek prím keresés. Kerek prímnek nevezzük az olyan prímet, mely számjegyeinek összes \"forgatásából\" adódó szám is prím. Például: 719 --> 197 --> 971 --> 719 (körbeértünk), \n",
    "#tehát 719 összes forgatása: 197, 971, amik szintén prímek, tehát 719 kerek prím. Feladat: Hány kerek prím van 1 millió alatt? \n",
    "#Amit várunk: egy kész implementáció, mely kiszámolja és kiírja az 1 millió alatti kerek prímek számát"
   ]
  },
  {
   "cell_type": "code",
   "execution_count": 88,
   "metadata": {},
   "outputs": [],
   "source": [
    "#prime number create\n",
    "primeArray =[]\n",
    "\n",
    "def primeCreate(firstN,lastN):\n",
    "    #print(firstN)\n",
    "    #print(lastN)\n",
    "    for x in range(firstN,lastN):\n",
    "        #print(x)\n",
    "        counter = 0\n",
    "        number = x\n",
    "        szam = x\n",
    "        while (szam>=1):\n",
    "            if (number % szam ==0):\n",
    "                counter = counter +1\n",
    "            szam = szam-1\n",
    "        if (counter ==2):\n",
    "            #print(x)\n",
    "            primeArray.append(x)"
   ]
  },
  {
   "cell_type": "code",
   "execution_count": 89,
   "metadata": {},
   "outputs": [],
   "source": [
    "firstN = 100\n",
    "lastN = 115\n",
    "primeCreate(firstN,lastN)"
   ]
  },
  {
   "cell_type": "code",
   "execution_count": 101,
   "metadata": {},
   "outputs": [
    {
     "name": "stdout",
     "output_type": "stream",
     "text": [
      "[101, 103, 107, 109, 113]\n"
     ]
    }
   ],
   "source": [
    "print(primeArray)"
   ]
  },
  {
   "cell_type": "code",
   "execution_count": 102,
   "metadata": {},
   "outputs": [],
   "source": [
    "#test method\n",
    "def primeTest(primeNumber):\n",
    "    #print(primeNumber)\n",
    "    number = str(primeNumber)\n",
    "    print(number.)"
   ]
  },
  {
   "cell_type": "code",
   "execution_count": 103,
   "metadata": {},
   "outputs": [
    {
     "name": "stdout",
     "output_type": "stream",
     "text": [
      "<built-in method rindex of str object at 0x000001C00F9E0298>\n",
      "<built-in method rindex of str object at 0x000001C00F9E0298>\n",
      "<built-in method rindex of str object at 0x000001C00F9E0298>\n",
      "<built-in method rindex of str object at 0x000001C00F9E0298>\n",
      "<built-in method rindex of str object at 0x000001C00F9E0298>\n"
     ]
    }
   ],
   "source": [
    "#test the prime number can be rotate\n",
    "for x in primeArray:\n",
    "    #print(x)\n",
    "    primeTest(x)"
   ]
  },
  {
   "cell_type": "code",
   "execution_count": 69,
   "metadata": {},
   "outputs": [],
   "source": [
    "number = 345"
   ]
  },
  {
   "cell_type": "code",
   "execution_count": 79,
   "metadata": {},
   "outputs": [],
   "source": [
    "number = 345\n",
    "number = str(number)"
   ]
  },
  {
   "cell_type": "code",
   "execution_count": 81,
   "metadata": {},
   "outputs": [
    {
     "data": {
      "text/plain": [
       "'3'"
      ]
     },
     "execution_count": 81,
     "metadata": {},
     "output_type": "execute_result"
    }
   ],
   "source": []
  },
  {
   "cell_type": "code",
   "execution_count": null,
   "metadata": {},
   "outputs": [],
   "source": []
  }
 ],
 "metadata": {
  "kernelspec": {
   "display_name": "Python 3",
   "language": "python",
   "name": "python3"
  },
  "language_info": {
   "codemirror_mode": {
    "name": "ipython",
    "version": 3
   },
   "file_extension": ".py",
   "mimetype": "text/x-python",
   "name": "python",
   "nbconvert_exporter": "python",
   "pygments_lexer": "ipython3",
   "version": "3.7.1"
  }
 },
 "nbformat": 4,
 "nbformat_minor": 2
}
