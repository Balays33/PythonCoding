{
 "cells": [
  {
   "cell_type": "markdown",
   "metadata": {},
   "source": [
    "Find the Duplicate Number\n",
    "\n",
    "Given an array nums containing n + 1 integers where each integer is between 1 and n (inclusive), prove that at least one duplicate number must exist. Assume that there is only one duplicate number, find the duplicate one.\n",
    "\n",
    "Example 1:\n",
    "\n",
    "Input: [1,3,4,2,2]\n",
    "Output: 2\n",
    "Example 2:\n",
    "\n",
    "Input: [3,1,3,4,2]\n",
    "Output: 3\n",
    "Note:\n",
    "\n",
    "You must not modify the array (assume the array is read only).\n",
    "You must use only constant, O(1) extra space.\n",
    "Your runtime complexity should be less than O(n2).\n",
    "There is only one duplicate number in the array, but it could be repeated more than once."
   ]
  },
  {
   "cell_type": "code",
   "execution_count": 71,
   "metadata": {},
   "outputs": [],
   "source": [
    "class Solution():\n",
    "    \n",
    "    \n",
    "    def __init__(self,nums):\n",
    "        self.nums = nums\n",
    "        self.result = 0\n",
    "        \n",
    "    \n",
    "    def findDuplicate(self,nums):\n",
    "        print(\"Find the Duplicate Number\")\n",
    "        print(nums)\n",
    "        for x in range(len(nums)-1):\n",
    "            #print(nums[x])\n",
    "            help = nums[x]\n",
    "            y  = x+1\n",
    "            for y in range(len(nums)):\n",
    "                #print(y)\n",
    "                if nums[y] == help:\n",
    "                    self.result = help\n",
    "                    break\n",
    "        return self.result"
   ]
  },
  {
   "cell_type": "code",
   "execution_count": 72,
   "metadata": {},
   "outputs": [],
   "source": [
    "nums = [1,3,4,2,2]\n",
    "mypro = Solution(nums)"
   ]
  },
  {
   "cell_type": "code",
   "execution_count": 73,
   "metadata": {},
   "outputs": [
    {
     "name": "stdout",
     "output_type": "stream",
     "text": [
      "Find the Duplicate Number\n",
      "[1, 3, 4, 2, 2]\n"
     ]
    },
    {
     "data": {
      "text/plain": [
       "2"
      ]
     },
     "execution_count": 73,
     "metadata": {},
     "output_type": "execute_result"
    }
   ],
   "source": [
    "mypro.findDuplicate(nums)"
   ]
  },
  {
   "cell_type": "code",
   "execution_count": null,
   "metadata": {},
   "outputs": [],
   "source": []
  }
 ],
 "metadata": {
  "kernelspec": {
   "display_name": "Python 3",
   "language": "python",
   "name": "python3"
  },
  "language_info": {
   "codemirror_mode": {
    "name": "ipython",
    "version": 3
   },
   "file_extension": ".py",
   "mimetype": "text/x-python",
   "name": "python",
   "nbconvert_exporter": "python",
   "pygments_lexer": "ipython3",
   "version": "3.7.1"
  }
 },
 "nbformat": 4,
 "nbformat_minor": 2
}
