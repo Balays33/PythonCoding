{
 "cells": [
  {
   "cell_type": "code",
   "execution_count": 142,
   "metadata": {},
   "outputs": [],
   "source": [
    "CountTrianglesN =[10,2,5,1,8,12]\n",
    "result=0"
   ]
  },
  {
   "cell_type": "code",
   "execution_count": 143,
   "metadata": {},
   "outputs": [
    {
     "data": {
      "text/plain": [
       "[10, 2, 5, 1, 8, 12]"
      ]
     },
     "execution_count": 143,
     "metadata": {},
     "output_type": "execute_result"
    }
   ],
   "source": [
    "CountTrianglesN"
   ]
  },
  {
   "cell_type": "code",
   "execution_count": 144,
   "metadata": {},
   "outputs": [
    {
     "name": "stdout",
     "output_type": "stream",
     "text": [
      "10 5 8\n",
      "10 5 12\n",
      "10 8 12\n",
      "5 8 12\n"
     ]
    }
   ],
   "source": [
    "for x in range(len(CountTrianglesN)-2):\n",
    "    for y in range(x+1,len(CountTrianglesN)-1):\n",
    "        for z in range(y+1,len(CountTrianglesN)):\n",
    "            #print(CountTrianglesN[x],CountTrianglesN[y],CountTrianglesN[z])\n",
    "            if ((CountTrianglesN[x]<CountTrianglesN[y]+CountTrianglesN[z]) & (CountTrianglesN[z]<CountTrianglesN[y]+CountTrianglesN[x]) & (CountTrianglesN[y]<CountTrianglesN[x]+CountTrianglesN[z])):\n",
    "                print(CountTrianglesN[x],CountTrianglesN[y],CountTrianglesN[z])\n",
    "                result +=1"
   ]
  },
  {
   "cell_type": "code",
   "execution_count": 145,
   "metadata": {},
   "outputs": [
    {
     "data": {
      "text/plain": [
       "4"
      ]
     },
     "execution_count": 145,
     "metadata": {},
     "output_type": "execute_result"
    }
   ],
   "source": [
    "result\n"
   ]
  },
  {
   "cell_type": "code",
   "execution_count": null,
   "metadata": {},
   "outputs": [],
   "source": []
  }
 ],
 "metadata": {
  "kernelspec": {
   "display_name": "Python 3",
   "language": "python",
   "name": "python3"
  },
  "language_info": {
   "codemirror_mode": {
    "name": "ipython",
    "version": 3
   },
   "file_extension": ".py",
   "mimetype": "text/x-python",
   "name": "python",
   "nbconvert_exporter": "python",
   "pygments_lexer": "ipython3",
   "version": "3.7.1"
  }
 },
 "nbformat": 4,
 "nbformat_minor": 2
}
