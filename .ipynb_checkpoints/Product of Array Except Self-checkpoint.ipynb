{
 "cells": [
  {
   "cell_type": "code",
   "execution_count": 1,
   "metadata": {},
   "outputs": [],
   "source": [
    "# Product of Array Except Self\n",
    "#Given an array nums of n integers where n > 1,  return an array output such that output[i] is equal to the product of all the elements of nums except nums[i].\n",
    "\n",
    "#Example:\n",
    "\n",
    "#Input:  [1,2,3,4]\n",
    "#Output: [24,12,8,6]\n",
    "#Constraint: It's guaranteed that the product of the elements of any prefix or suffix of the array (including the whole array) fits in a 32 bit integer.\n",
    "\n",
    "#Note: Please solve it without division and in O(n).\n",
    "\n",
    "#Follow up:\n",
    "#Could you solve it with constant space complexity? (The output array does not count as extra space for the purpose of space complexity analysis.)"
   ]
  },
  {
   "cell_type": "code",
   "execution_count": 126,
   "metadata": {},
   "outputs": [],
   "source": [
    "#input = [1,2,3,4]\n",
    "input = [4,5,1,8,2]\n",
    "help =1\n",
    "result = {}"
   ]
  },
  {
   "cell_type": "code",
   "execution_count": 127,
   "metadata": {},
   "outputs": [
    {
     "data": {
      "text/plain": [
       "0"
      ]
     },
     "execution_count": 127,
     "metadata": {},
     "output_type": "execute_result"
    }
   ],
   "source": [
    "counter"
   ]
  },
  {
   "cell_type": "code",
   "execution_count": 128,
   "metadata": {},
   "outputs": [],
   "source": [
    " def productExceptSelf(input):\n",
    "        counter = 0\n",
    "        #print(input)\n",
    "        for x in input:\n",
    "            #print(x)\n",
    "            counter = counter +1\n",
    "            #print(counter)\n",
    "            help=1\n",
    "            for y in input:\n",
    "                if x!= y:\n",
    "                    help *= y\n",
    "            result[counter] = help    "
   ]
  },
  {
   "cell_type": "code",
   "execution_count": 129,
   "metadata": {},
   "outputs": [],
   "source": [
    "productExceptSelf(input)"
   ]
  },
  {
   "cell_type": "code",
   "execution_count": 130,
   "metadata": {},
   "outputs": [
    {
     "name": "stdout",
     "output_type": "stream",
     "text": [
      "{1: 80, 2: 64, 3: 320, 4: 40, 5: 160}\n"
     ]
    }
   ],
   "source": [
    "print(result)"
   ]
  },
  {
   "cell_type": "code",
   "execution_count": null,
   "metadata": {},
   "outputs": [],
   "source": [
    "class Solution:\n",
    "    def productExceptSelf(self, nums: List[int]) -> List[int]:\n",
    "        \n",
    "        # The length of the input array \n",
    "        length = len(nums)\n",
    "        \n",
    "        # The left and right arrays as described in the algorithm\n",
    "        L, R, answer = [0]*length, [0]*length, [0]*length\n",
    "        \n",
    "        # L[i] contains the product of all the elements to the left\n",
    "        # Note: for the element at index '0', there are no elements to the left,\n",
    "        # so the L[0] would be 1\n",
    "        L[0] = 1\n",
    "        for i in range(1, length):\n",
    "            \n",
    "            # L[i - 1] already contains the product of elements to the left of 'i - 1'\n",
    "            # Simply multiplying it with nums[i - 1] would give the product of all \n",
    "            # elements to the left of index 'i'\n",
    "            L[i] = nums[i - 1] * L[i - 1]\n",
    "        \n",
    "        # R[i] contains the product of all the elements to the right\n",
    "        # Note: for the element at index 'length - 1', there are no elements to the right,\n",
    "        # so the R[length - 1] would be 1\n",
    "        R[length - 1] = 1\n",
    "        for i in reversed(range(length - 1)):\n",
    "            \n",
    "            # R[i + 1] already contains the product of elements to the right of 'i + 1'\n",
    "            # Simply multiplying it with nums[i + 1] would give the product of all \n",
    "            # elements to the right of index 'i'\n",
    "            R[i] = nums[i + 1] * R[i + 1]\n",
    "        \n",
    "        # Constructing the answer array\n",
    "        for i in range(length):\n",
    "            # For the first element, R[i] would be product except self\n",
    "            # For the last element of the array, product except self would be L[i]\n",
    "            # Else, multiple product of all elements to the left and to the right\n",
    "            answer[i] = L[i] * R[i]\n",
    "        \n",
    "        return answer"
   ]
  }
 ],
 "metadata": {
  "kernelspec": {
   "display_name": "Python 3",
   "language": "python",
   "name": "python3"
  },
  "language_info": {
   "codemirror_mode": {
    "name": "ipython",
    "version": 3
   },
   "file_extension": ".py",
   "mimetype": "text/x-python",
   "name": "python",
   "nbconvert_exporter": "python",
   "pygments_lexer": "ipython3",
   "version": "3.7.1"
  }
 },
 "nbformat": 4,
 "nbformat_minor": 2
}
