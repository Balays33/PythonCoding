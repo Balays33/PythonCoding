{
 "cells": [
  {
   "cell_type": "code",
   "execution_count": 36,
   "metadata": {},
   "outputs": [
    {
     "name": "stdout",
     "output_type": "stream",
     "text": [
      "2\n",
      "3\n",
      "5\n",
      "7\n",
      "11\n",
      "13\n",
      "17\n",
      "19\n",
      "23\n",
      "29\n",
      "31\n",
      "37\n",
      "41\n",
      "43\n",
      "47\n",
      "53\n",
      "59\n",
      "61\n",
      "67\n",
      "71\n",
      "73\n",
      "79\n",
      "83\n",
      "89\n",
      "97\n"
     ]
    }
   ],
   "source": [
    "#prime number\n",
    "prime =[]\n",
    "start =2\n",
    "end =100\n",
    "for val in range(start, end + 1):    \n",
    "   # If num is divisible by any number   \n",
    "   # between 2 and val, it is not prime  \n",
    "   if val > 1: \n",
    "       for n in range(2, val): \n",
    "           if (val % n) == 0: \n",
    "               break\n",
    "       else: \n",
    "           print(val)\n",
    "           prime.append(val)\n",
    "            \n",
    "            \n",
    "            "
   ]
  },
  {
   "cell_type": "code",
   "execution_count": 37,
   "metadata": {},
   "outputs": [
    {
     "data": {
      "text/plain": [
       "25"
      ]
     },
     "execution_count": 37,
     "metadata": {},
     "output_type": "execute_result"
    }
   ],
   "source": [
    "#print(prime)\n",
    "len(prime)"
   ]
  },
  {
   "cell_type": "code",
   "execution_count": 38,
   "metadata": {},
   "outputs": [],
   "source": [
    "#SORT semiprime number\n",
    "semiprime=[]\n",
    "for x in range(len(prime)):\n",
    "    for y in range(x+1):\n",
    "        semiprime.append(prime[x]*prime[y])"
   ]
  },
  {
   "cell_type": "code",
   "execution_count": 39,
   "metadata": {},
   "outputs": [],
   "source": [
    "semiprime.sort()"
   ]
  },
  {
   "cell_type": "code",
   "execution_count": 40,
   "metadata": {},
   "outputs": [
    {
     "name": "stdout",
     "output_type": "stream",
     "text": [
      "[4, 6, 9, 10, 14, 15, 21, 22, 25, 26, 33, 34, 35, 38, 39, 46, 49, 51, 55, 57, 58, 62, 65, 69, 74, 77, 82, 85, 86, 87, 91, 93, 94, 95, 106, 111, 115, 118, 119, 121, 122, 123, 129, 133, 134, 141, 142, 143, 145, 146, 155, 158, 159, 161, 166, 169, 177, 178, 183, 185, 187, 194, 201, 203, 205, 209, 213, 215, 217, 219, 221, 235, 237, 247, 249, 253, 259, 265, 267, 287, 289, 291, 295, 299, 301, 305, 319, 323, 329, 335, 341, 355, 361, 365, 371, 377, 391, 395, 403, 407, 413, 415, 427, 437, 445, 451, 469, 473, 481, 485, 493, 497, 511, 517, 527, 529, 533, 551, 553, 559, 581, 583, 589, 611, 623, 629, 649, 667, 671, 679, 689, 697, 703, 713, 731, 737, 767, 779, 781, 793, 799, 803, 817, 841, 851, 869, 871, 893, 899, 901, 913, 923, 943, 949, 961, 979, 989, 1003, 1007, 1027, 1037, 1067, 1073, 1079, 1081, 1121, 1139, 1147, 1157, 1159, 1189, 1207, 1219, 1241, 1247, 1261, 1271, 1273, 1333, 1343, 1349, 1357, 1363, 1369, 1387, 1403, 1411, 1457, 1501, 1513, 1517, 1537, 1541, 1577, 1591, 1633, 1643, 1649, 1679, 1681, 1691, 1711, 1739, 1763, 1769, 1817, 1829, 1843, 1849, 1891, 1909, 1927, 1943, 1961, 2021, 2047, 2059, 2077, 2117, 2173, 2183, 2201, 2209, 2231, 2257, 2263, 2279, 2291, 2407, 2419, 2449, 2479, 2491, 2501, 2537, 2573, 2581, 2623, 2627, 2701, 2747, 2759, 2773, 2809, 2813, 2867, 2881, 2911, 2923, 2993, 3007, 3053, 3071, 3127, 3139, 3149, 3233, 3239, 3293, 3337, 3397, 3403, 3431, 3481, 3551, 3569, 3589, 3599, 3649, 3713, 3721, 3763, 3827, 3869, 3901, 3953, 3977, 4087, 4171, 4183, 4187, 4189, 4307, 4331, 4399, 4453, 4489, 4559, 4661, 4717, 4757, 4819, 4891, 4897, 5041, 5063, 5141, 5183, 5251, 5293, 5329, 5429, 5561, 5609, 5723, 5767, 5893, 5917, 5963, 6059, 6241, 6319, 6497, 6499, 6557, 6887, 6889, 7031, 7081, 7387, 7663, 7921, 8051, 8633, 9409]\n"
     ]
    }
   ],
   "source": [
    "print(semiprime)"
   ]
  },
  {
   "cell_type": "code",
   "execution_count": 68,
   "metadata": {},
   "outputs": [],
   "source": [
    "CountSemiprimesN = 26\n",
    "P = [1,4,16]\n",
    "Q = [26,10,20]\n",
    "result = []"
   ]
  },
  {
   "cell_type": "raw",
   "metadata": {},
   "source": []
  },
  {
   "cell_type": "code",
   "execution_count": 69,
   "metadata": {},
   "outputs": [
    {
     "name": "stdout",
     "output_type": "stream",
     "text": [
      "10\n",
      "4\n",
      "0\n",
      "[10, 4, 0]\n"
     ]
    }
   ],
   "source": [
    "for i in range(len(P)):\n",
    "    help = 0\n",
    "    for s in range(P[i],Q[i]+1):\n",
    "        for z in range(len(semiprime)):\n",
    "            if semiprime[z] == s:\n",
    "                help +=1\n",
    "    result.append(help)\n",
    "    print(help)\n",
    "print(result)"
   ]
  }
 ],
 "metadata": {
  "kernelspec": {
   "display_name": "Python 3",
   "language": "python",
   "name": "python3"
  },
  "language_info": {
   "codemirror_mode": {
    "name": "ipython",
    "version": 3
   },
   "file_extension": ".py",
   "mimetype": "text/x-python",
   "name": "python",
   "nbconvert_exporter": "python",
   "pygments_lexer": "ipython3",
   "version": "3.7.1"
  }
 },
 "nbformat": 4,
 "nbformat_minor": 2
}
