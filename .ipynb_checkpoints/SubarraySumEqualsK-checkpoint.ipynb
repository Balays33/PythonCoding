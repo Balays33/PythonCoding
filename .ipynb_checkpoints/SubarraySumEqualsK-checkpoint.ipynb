{
 "cells": [
  {
   "cell_type": "raw",
   "metadata": {},
   "source": [
    "Subarray Sum Equals K\n",
    "\n",
    "Given an array of integers and an integer k, you need to find the total number of continuous subarrays whose sum equals to k.\n",
    "\n",
    "Example 1:\n",
    "\n",
    "Input:nums = [1,1,1], k = 2 Output: 2\n",
    "\n",
    "Constraints:\n",
    "\n",
    "The length of the array is in range [1, 20,000]. The range of numbers in the array is [-1000, 1000] and the range of the integer k is [-1e7, 1e7]."
   ]
  },
  {
   "cell_type": "code",
   "execution_count": 26,
   "metadata": {},
   "outputs": [],
   "source": [
    "nums = [1,1,1]\n",
    "k = 2\n"
   ]
  },
  {
   "cell_type": "code",
   "execution_count": 37,
   "metadata": {},
   "outputs": [],
   "source": [
    "def subarraySum(nums,k):\n",
    "    count = 0\n",
    "    print(\" nums {} and k: {}\".format(nums,k))\n",
    "    sum = 0\n",
    "    for x in nums:\n",
    "        for y in nums:\n",
    "        sum = sum +x\n",
    "        if sum == k:\n",
    "            print(\"test\")\n",
    "            count +=1\n",
    "        \n",
    "    return count\n",
    "    "
   ]
  },
  {
   "cell_type": "code",
   "execution_count": 38,
   "metadata": {},
   "outputs": [
    {
     "name": "stdout",
     "output_type": "stream",
     "text": [
      " nums [1, 1, 1] and k: 2\n",
      "test\n"
     ]
    },
    {
     "data": {
      "text/plain": [
       "1"
      ]
     },
     "execution_count": 38,
     "metadata": {},
     "output_type": "execute_result"
    }
   ],
   "source": [
    "subarraySum(nums,k)"
   ]
  },
  {
   "cell_type": "code",
   "execution_count": 44,
   "metadata": {},
   "outputs": [],
   "source": [
    "from collections import Counter\n",
    "\n",
    "class Solution(object):\n",
    "    def subarraySum(self, nums, k):\n",
    "        \"\"\"\n",
    "        :type nums: List[int]\n",
    "        :type k: int\n",
    "        :rtype: int\n",
    "        \"\"\"\n",
    "\n",
    "        # Edge case\n",
    "        if not nums:\n",
    "            return 0\n",
    "\n",
    "        # Sliding Window -- No, because the array contains negative number\n",
    "        # Dictionary + prefixSum technique\n",
    "        subArrayCount, currentSum = 0, 0\n",
    "        prefixSumCounter = Counter()\n",
    "        prefixSumCounter[0] = 1\n",
    "        for num in nums:\n",
    "            currentSum += num #  increment current sum\n",
    "            prefixSum = currentSum - k\n",
    "            if prefixSum in prefixSumCounter: # check if there is a prefix subarray we can take out to reach k\n",
    "                subArrayCount += prefixSumCounter[prefixSum]\n",
    "            prefixSumCounter[currentSum] += 1  # add current sum to sum count\n",
    "        return subArrayCount"
   ]
  },
  {
   "cell_type": "code",
   "execution_count": 47,
   "metadata": {},
   "outputs": [
    {
     "name": "stdout",
     "output_type": "stream",
     "text": [
      "Res:  2\n"
     ]
    }
   ],
   "source": [
    "sol = Solution()\n",
    "nums = [1,1,1]\n",
    "k = 2\n",
    "out = sol.subarraySum(nums, k)\n",
    "print(\"Res: \", out)"
   ]
  },
  {
   "cell_type": "code",
   "execution_count": null,
   "metadata": {},
   "outputs": [],
   "source": []
  }
 ],
 "metadata": {
  "kernelspec": {
   "display_name": "Python 3",
   "language": "python",
   "name": "python3"
  },
  "language_info": {
   "codemirror_mode": {
    "name": "ipython",
    "version": 3
   },
   "file_extension": ".py",
   "mimetype": "text/x-python",
   "name": "python",
   "nbconvert_exporter": "python",
   "pygments_lexer": "ipython3",
   "version": "3.7.1"
  }
 },
 "nbformat": 4,
 "nbformat_minor": 2
}
