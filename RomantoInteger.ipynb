{
 "cells": [
  {
   "cell_type": "markdown",
   "metadata": {},
   "source": [
    "Roman numerals are represented by seven different symbols: I, V, X, L, C, D and M.\n",
    "\n",
    "Symbol       Value\n",
    "I             1\n",
    "V             5\n",
    "X             10\n",
    "L             50\n",
    "C             100\n",
    "D             500\n",
    "M             1000\n",
    "For example, 2 is written as II in Roman numeral, just two one's added together. 12 is written as XII, which is simply X + II. The number 27 is written as XXVII, which is XX + V + II.\n",
    "\n",
    "Roman numerals are usually written largest to smallest from left to right. However, the numeral for four is not IIII. Instead, the number four is written as IV. Because the one is before the five we subtract it making four. The same principle applies to the number nine, which is written as IX. There are six instances where subtraction is used:\n",
    "\n",
    "I can be placed before V (5) and X (10) to make 4 and 9. \n",
    "X can be placed before L (50) and C (100) to make 40 and 90. \n",
    "C can be placed before D (500) and M (1000) to make 400 and 900.\n",
    "Given a roman numeral, convert it to an integer.\n",
    "\n",
    " \n",
    "\n",
    "Example 1:\n",
    "\n",
    "Input: s = \"III\"\n",
    "Output: 3\n",
    "Example 2:\n",
    "\n",
    "Input: s = \"IV\"\n",
    "Output: 4\n",
    "Example 3:\n",
    "\n",
    "Input: s = \"IX\"\n",
    "Output: 9\n",
    "Example 4:\n",
    "\n",
    "Input: s = \"LVIII\"\n",
    "Output: 58\n",
    "Explanation: L = 50, V= 5, III = 3.\n",
    "Example 5:\n",
    "\n",
    "Input: s = \"MCMXCIV\"\n",
    "Output: 1994\n",
    "Explanation: M = 1000, CM = 900, XC = 90 and IV = 4.\n",
    " \n",
    "\n",
    "Constraints:\n",
    "\n",
    "1 <= s.length <= 15\n",
    "s contains only the characters ('I', 'V', 'X', 'L', 'C', 'D', 'M').\n",
    "It is guaranteed that s is a valid roman numeral in the range [1, 3999]."
   ]
  },
  {
   "cell_type": "code",
   "execution_count": 34,
   "metadata": {},
   "outputs": [
    {
     "name": "stdout",
     "output_type": "stream",
     "text": [
      "['I', 'V', 'X', 'L', 'C', 'D', 'M']\n",
      "Please type roman number symbols: I, V, X, L, C, D and M :IX\n",
      "IX\n",
      "Good\n",
      "1\n",
      "10\n",
      "11\n"
     ]
    }
   ],
   "source": [
    "romanNumber =['I', 'V', 'X', 'L', 'C', 'D', 'M']\n",
    "#romanValue = [ 1,   5,   10, 50,  100, 500, 1000]\n",
    "romanValueDict = { 'I':1, 'V':5, 'X':10, 'L':50, 'C':100, 'D':500, 'M':1000, 'IV':4}\n",
    "result = 0\n",
    "print(romanNumber)\n",
    "inputRnumber=input(\"Please type roman number symbols: I, V, X, L, C, D and M :\")\n",
    "itIsRomanNumber = True\n",
    "for character in inputRnumber:\n",
    "    #print(character.upper())\n",
    "    if character.upper() in romanNumber:\n",
    "        #print(\"your input {}\".format(character))\n",
    "        pass\n",
    "    else:\n",
    "        print(\"ERROR not all of your caracter is Roman\")\n",
    "        itIsRomanNumber = False\n",
    "        break\n",
    "if itIsRomanNumber:\n",
    "    inputRnumberUpper = inputRnumber.upper()\n",
    "    print(inputRnumberUpper)\n",
    "if len(inputRnumber) >= 1 and len(inputRnumber) <= 15:\n",
    "    print(\"Good\")\n",
    "else:\n",
    "    print(\"out of the range\")\n",
    "    exit()\n",
    "#print(romanValueDict.get('I'))\n",
    "for x in inputRnumber:\n",
    "    print(romanValueDict.get(x))\n",
    "    result += romanValueDict.get(x)\n",
    "print(result)"
   ]
  },
  {
   "cell_type": "code",
   "execution_count": null,
   "metadata": {},
   "outputs": [],
   "source": []
  },
  {
   "cell_type": "code",
   "execution_count": 15,
   "metadata": {},
   "outputs": [],
   "source": [
    "class Solution(object):\n",
    "    def romanToInt(self, s):\n",
    "        sum = 0\n",
    "        ValueOf = {\"M\":1000, \"D\":500, \"C\":100, \"L\":50, \"X\":10, \"V\":5, \"I\":1}\n",
    "        for i in range(len(s)):\n",
    "            at = ValueOf[s[i]]\n",
    "            before = ValueOf[s[i-1]]\n",
    "            sum = sum + at\n",
    "            if at > before and i!=0:\n",
    "                sum = sum - 2*before\n",
    "            print(sum)\n",
    "        return sum\n"
   ]
  },
  {
   "cell_type": "code",
   "execution_count": 35,
   "metadata": {},
   "outputs": [
    {
     "name": "stdout",
     "output_type": "stream",
     "text": [
      "1\n",
      "9\n"
     ]
    },
    {
     "data": {
      "text/plain": [
       "9"
      ]
     },
     "execution_count": 35,
     "metadata": {},
     "output_type": "execute_result"
    }
   ],
   "source": [
    "p1 = Solution()\n",
    "p1.romanToInt('IX')"
   ]
  },
  {
   "cell_type": "code",
   "execution_count": null,
   "metadata": {},
   "outputs": [],
   "source": []
  }
 ],
 "metadata": {
  "kernelspec": {
   "display_name": "Python 3",
   "language": "python",
   "name": "python3"
  },
  "language_info": {
   "codemirror_mode": {
    "name": "ipython",
    "version": 3
   },
   "file_extension": ".py",
   "mimetype": "text/x-python",
   "name": "python",
   "nbconvert_exporter": "python",
   "pygments_lexer": "ipython3",
   "version": "3.7.1"
  }
 },
 "nbformat": 4,
 "nbformat_minor": 2
}
